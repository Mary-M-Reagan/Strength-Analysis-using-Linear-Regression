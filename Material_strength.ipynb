{
 "cells": [
  {
   "cell_type": "markdown",
   "metadata": {},
   "source": [
    "# Determining Strength of Iron Nickel Alloys"
   ]
  },
  {
   "cell_type": "code",
   "execution_count": 1,
   "metadata": {},
   "outputs": [],
   "source": [
    "import pandas as pd\n",
    "import numpy as np\n",
    "import matplotlib.pyplot as plt\n",
    "import glob\n",
    "from scipy import stats"
   ]
  },
  {
   "cell_type": "markdown",
   "metadata": {},
   "source": [
    "**Import:**"
   ]
  },
  {
   "cell_type": "code",
   "execution_count": 2,
   "metadata": {},
   "outputs": [],
   "source": [
    "path = '.../FeNi20_55GPa/FeNi20_55GPa_'\n",
    "\n",
    "filename = glob.glob(path+'*.xlsx')"
   ]
  },
  {
   "cell_type": "code",
   "execution_count": 3,
   "metadata": {},
   "outputs": [
    {
     "data": {
      "text/plain": [
       "['/Users/turtle26mr/Desktop/FeNi20_55GPa/FeNi20_55GPa_103.xlsx',\n",
       " '/Users/turtle26mr/Desktop/FeNi20_55GPa/FeNi20_55GPa_101.xlsx',\n",
       " '/Users/turtle26mr/Desktop/FeNi20_55GPa/FeNi20_55GPa_100.xlsx',\n",
       " '/Users/turtle26mr/Desktop/FeNi20_55GPa/FeNi20_55GPa_202.xlsx',\n",
       " '/Users/turtle26mr/Desktop/FeNi20_55GPa/FeNi20_55GPa_110.xlsx',\n",
       " '/Users/turtle26mr/Desktop/FeNi20_55GPa/FeNi20_55GPa_002.xlsx']"
      ]
     },
     "execution_count": 3,
     "metadata": {},
     "output_type": "execute_result"
    }
   ],
   "source": [
    "filename"
   ]
  },
  {
   "cell_type": "code",
   "execution_count": 4,
   "metadata": {},
   "outputs": [],
   "source": [
    "path = '/Users/turtle26mr/Desktop/FeNi20_55GPa/'\n",
    "data = {}\n",
    "\n",
    "for f in filename:\n",
    "    d = pd.read_excel(f)\n",
    "    key = f.replace(path, '').replace('.xlsx', '')\n",
    "    data[key] = d"
   ]
  },
  {
   "cell_type": "markdown",
   "metadata": {},
   "source": [
    "**Explore:**"
   ]
  },
  {
   "cell_type": "code",
   "execution_count": 5,
   "metadata": {},
   "outputs": [
    {
     "data": {
      "text/plain": [
       "dict_keys(['FeNi20_55GPa_103', 'FeNi20_55GPa_101', 'FeNi20_55GPa_100', 'FeNi20_55GPa_202', 'FeNi20_55GPa_110', 'FeNi20_55GPa_002'])"
      ]
     },
     "execution_count": 5,
     "metadata": {},
     "output_type": "execute_result"
    }
   ],
   "source": [
    "data.keys()"
   ]
  },
  {
   "cell_type": "code",
   "execution_count": 6,
   "metadata": {},
   "outputs": [
    {
     "data": {
      "text/html": [
       "<div>\n",
       "<style scoped>\n",
       "    .dataframe tbody tr th:only-of-type {\n",
       "        vertical-align: middle;\n",
       "    }\n",
       "\n",
       "    .dataframe tbody tr th {\n",
       "        vertical-align: top;\n",
       "    }\n",
       "\n",
       "    .dataframe thead th {\n",
       "        text-align: right;\n",
       "    }\n",
       "</style>\n",
       "<table border=\"1\" class=\"dataframe\">\n",
       "  <thead>\n",
       "    <tr style=\"text-align: right;\">\n",
       "      <th></th>\n",
       "      <th>angle</th>\n",
       "      <th>dpacing</th>\n",
       "      <th>theta</th>\n",
       "      <th>d_0</th>\n",
       "    </tr>\n",
       "  </thead>\n",
       "  <tbody>\n",
       "    <tr>\n",
       "      <th>0</th>\n",
       "      <td>15</td>\n",
       "      <td>1.915882</td>\n",
       "      <td>6.19520</td>\n",
       "      <td>1.8847</td>\n",
       "    </tr>\n",
       "    <tr>\n",
       "      <th>1</th>\n",
       "      <td>25</td>\n",
       "      <td>1.914912</td>\n",
       "      <td>6.19835</td>\n",
       "      <td>NaN</td>\n",
       "    </tr>\n",
       "    <tr>\n",
       "      <th>2</th>\n",
       "      <td>35</td>\n",
       "      <td>1.916637</td>\n",
       "      <td>6.19275</td>\n",
       "      <td>NaN</td>\n",
       "    </tr>\n",
       "    <tr>\n",
       "      <th>3</th>\n",
       "      <td>45</td>\n",
       "      <td>1.918905</td>\n",
       "      <td>6.18540</td>\n",
       "      <td>NaN</td>\n",
       "    </tr>\n",
       "    <tr>\n",
       "      <th>4</th>\n",
       "      <td>55</td>\n",
       "      <td>1.922853</td>\n",
       "      <td>6.17265</td>\n",
       "      <td>NaN</td>\n",
       "    </tr>\n",
       "    <tr>\n",
       "      <th>5</th>\n",
       "      <td>65</td>\n",
       "      <td>1.927972</td>\n",
       "      <td>6.15620</td>\n",
       "      <td>NaN</td>\n",
       "    </tr>\n",
       "    <tr>\n",
       "      <th>6</th>\n",
       "      <td>75</td>\n",
       "      <td>1.930299</td>\n",
       "      <td>6.14875</td>\n",
       "      <td>NaN</td>\n",
       "    </tr>\n",
       "    <tr>\n",
       "      <th>7</th>\n",
       "      <td>85</td>\n",
       "      <td>1.931003</td>\n",
       "      <td>6.14650</td>\n",
       "      <td>NaN</td>\n",
       "    </tr>\n",
       "    <tr>\n",
       "      <th>8</th>\n",
       "      <td>95</td>\n",
       "      <td>1.930877</td>\n",
       "      <td>6.14690</td>\n",
       "      <td>NaN</td>\n",
       "    </tr>\n",
       "    <tr>\n",
       "      <th>9</th>\n",
       "      <td>105</td>\n",
       "      <td>1.929970</td>\n",
       "      <td>6.14980</td>\n",
       "      <td>NaN</td>\n",
       "    </tr>\n",
       "    <tr>\n",
       "      <th>10</th>\n",
       "      <td>115</td>\n",
       "      <td>1.927099</td>\n",
       "      <td>6.15900</td>\n",
       "      <td>NaN</td>\n",
       "    </tr>\n",
       "    <tr>\n",
       "      <th>11</th>\n",
       "      <td>125</td>\n",
       "      <td>1.922311</td>\n",
       "      <td>6.17440</td>\n",
       "      <td>NaN</td>\n",
       "    </tr>\n",
       "    <tr>\n",
       "      <th>12</th>\n",
       "      <td>135</td>\n",
       "      <td>1.918936</td>\n",
       "      <td>6.18530</td>\n",
       "      <td>NaN</td>\n",
       "    </tr>\n",
       "    <tr>\n",
       "      <th>13</th>\n",
       "      <td>145</td>\n",
       "      <td>1.916298</td>\n",
       "      <td>6.19385</td>\n",
       "      <td>NaN</td>\n",
       "    </tr>\n",
       "    <tr>\n",
       "      <th>14</th>\n",
       "      <td>155</td>\n",
       "      <td>1.913574</td>\n",
       "      <td>6.20270</td>\n",
       "      <td>NaN</td>\n",
       "    </tr>\n",
       "    <tr>\n",
       "      <th>15</th>\n",
       "      <td>165</td>\n",
       "      <td>1.910782</td>\n",
       "      <td>6.21180</td>\n",
       "      <td>NaN</td>\n",
       "    </tr>\n",
       "    <tr>\n",
       "      <th>16</th>\n",
       "      <td>175</td>\n",
       "      <td>1.908120</td>\n",
       "      <td>6.22050</td>\n",
       "      <td>NaN</td>\n",
       "    </tr>\n",
       "    <tr>\n",
       "      <th>17</th>\n",
       "      <td>185</td>\n",
       "      <td>1.907539</td>\n",
       "      <td>6.22240</td>\n",
       "      <td>NaN</td>\n",
       "    </tr>\n",
       "    <tr>\n",
       "      <th>18</th>\n",
       "      <td>195</td>\n",
       "      <td>1.909633</td>\n",
       "      <td>6.21555</td>\n",
       "      <td>NaN</td>\n",
       "    </tr>\n",
       "    <tr>\n",
       "      <th>19</th>\n",
       "      <td>205</td>\n",
       "      <td>1.912453</td>\n",
       "      <td>6.20635</td>\n",
       "      <td>NaN</td>\n",
       "    </tr>\n",
       "    <tr>\n",
       "      <th>20</th>\n",
       "      <td>215</td>\n",
       "      <td>1.915035</td>\n",
       "      <td>6.19795</td>\n",
       "      <td>NaN</td>\n",
       "    </tr>\n",
       "    <tr>\n",
       "      <th>21</th>\n",
       "      <td>225</td>\n",
       "      <td>1.917608</td>\n",
       "      <td>6.18960</td>\n",
       "      <td>NaN</td>\n",
       "    </tr>\n",
       "    <tr>\n",
       "      <th>22</th>\n",
       "      <td>235</td>\n",
       "      <td>1.920235</td>\n",
       "      <td>6.18110</td>\n",
       "      <td>NaN</td>\n",
       "    </tr>\n",
       "    <tr>\n",
       "      <th>23</th>\n",
       "      <td>245</td>\n",
       "      <td>1.924904</td>\n",
       "      <td>6.16605</td>\n",
       "      <td>NaN</td>\n",
       "    </tr>\n",
       "    <tr>\n",
       "      <th>24</th>\n",
       "      <td>255</td>\n",
       "      <td>1.928284</td>\n",
       "      <td>6.15520</td>\n",
       "      <td>NaN</td>\n",
       "    </tr>\n",
       "    <tr>\n",
       "      <th>25</th>\n",
       "      <td>265</td>\n",
       "      <td>1.929548</td>\n",
       "      <td>6.15115</td>\n",
       "      <td>NaN</td>\n",
       "    </tr>\n",
       "    <tr>\n",
       "      <th>26</th>\n",
       "      <td>275</td>\n",
       "      <td>1.930049</td>\n",
       "      <td>6.14955</td>\n",
       "      <td>NaN</td>\n",
       "    </tr>\n",
       "    <tr>\n",
       "      <th>27</th>\n",
       "      <td>285</td>\n",
       "      <td>1.929689</td>\n",
       "      <td>6.15070</td>\n",
       "      <td>NaN</td>\n",
       "    </tr>\n",
       "    <tr>\n",
       "      <th>28</th>\n",
       "      <td>295</td>\n",
       "      <td>1.927457</td>\n",
       "      <td>6.15785</td>\n",
       "      <td>NaN</td>\n",
       "    </tr>\n",
       "    <tr>\n",
       "      <th>29</th>\n",
       "      <td>305</td>\n",
       "      <td>1.923630</td>\n",
       "      <td>6.17015</td>\n",
       "      <td>NaN</td>\n",
       "    </tr>\n",
       "    <tr>\n",
       "      <th>30</th>\n",
       "      <td>315</td>\n",
       "      <td>1.919755</td>\n",
       "      <td>6.18265</td>\n",
       "      <td>NaN</td>\n",
       "    </tr>\n",
       "    <tr>\n",
       "      <th>31</th>\n",
       "      <td>325</td>\n",
       "      <td>1.917778</td>\n",
       "      <td>6.18905</td>\n",
       "      <td>NaN</td>\n",
       "    </tr>\n",
       "    <tr>\n",
       "      <th>32</th>\n",
       "      <td>335</td>\n",
       "      <td>1.915728</td>\n",
       "      <td>6.19570</td>\n",
       "      <td>NaN</td>\n",
       "    </tr>\n",
       "    <tr>\n",
       "      <th>33</th>\n",
       "      <td>345</td>\n",
       "      <td>1.915989</td>\n",
       "      <td>6.19485</td>\n",
       "      <td>NaN</td>\n",
       "    </tr>\n",
       "  </tbody>\n",
       "</table>\n",
       "</div>"
      ],
      "text/plain": [
       "    angle   dpacing    theta     d_0\n",
       "0      15  1.915882  6.19520  1.8847\n",
       "1      25  1.914912  6.19835     NaN\n",
       "2      35  1.916637  6.19275     NaN\n",
       "3      45  1.918905  6.18540     NaN\n",
       "4      55  1.922853  6.17265     NaN\n",
       "5      65  1.927972  6.15620     NaN\n",
       "6      75  1.930299  6.14875     NaN\n",
       "7      85  1.931003  6.14650     NaN\n",
       "8      95  1.930877  6.14690     NaN\n",
       "9     105  1.929970  6.14980     NaN\n",
       "10    115  1.927099  6.15900     NaN\n",
       "11    125  1.922311  6.17440     NaN\n",
       "12    135  1.918936  6.18530     NaN\n",
       "13    145  1.916298  6.19385     NaN\n",
       "14    155  1.913574  6.20270     NaN\n",
       "15    165  1.910782  6.21180     NaN\n",
       "16    175  1.908120  6.22050     NaN\n",
       "17    185  1.907539  6.22240     NaN\n",
       "18    195  1.909633  6.21555     NaN\n",
       "19    205  1.912453  6.20635     NaN\n",
       "20    215  1.915035  6.19795     NaN\n",
       "21    225  1.917608  6.18960     NaN\n",
       "22    235  1.920235  6.18110     NaN\n",
       "23    245  1.924904  6.16605     NaN\n",
       "24    255  1.928284  6.15520     NaN\n",
       "25    265  1.929548  6.15115     NaN\n",
       "26    275  1.930049  6.14955     NaN\n",
       "27    285  1.929689  6.15070     NaN\n",
       "28    295  1.927457  6.15785     NaN\n",
       "29    305  1.923630  6.17015     NaN\n",
       "30    315  1.919755  6.18265     NaN\n",
       "31    325  1.917778  6.18905     NaN\n",
       "32    335  1.915728  6.19570     NaN\n",
       "33    345  1.915989  6.19485     NaN"
      ]
     },
     "execution_count": 6,
     "metadata": {},
     "output_type": "execute_result"
    }
   ],
   "source": [
    "data['FeNi20_55GPa_002']"
   ]
  },
  {
   "cell_type": "code",
   "execution_count": 7,
   "metadata": {},
   "outputs": [
    {
     "name": "stdout",
     "output_type": "stream",
     "text": [
      "   azithmal slice  dpacing   theta     d_0\n",
      "0               5       NaN    NaN  1.0699\n",
      "1              15       NaN    NaN     NaN\n",
      "2              25       NaN    NaN     NaN\n",
      "3              35       NaN    NaN     NaN\n",
      "4              45       NaN    NaN     NaN\n",
      "   angle   dpacing    theta     d_0\n",
      "0      5       NaN      NaN  1.7943\n",
      "1     15       NaN      NaN     NaN\n",
      "2     25  1.804222  6.58025     NaN\n",
      "3     35  1.804905  6.57775     NaN\n",
      "4     45  1.808463  6.56475     NaN\n",
      "   angle  dspacing    theta     d_0\n",
      "0      5       NaN      NaN  2.0403\n",
      "1     15       NaN      NaN     NaN\n",
      "2     25       NaN  5.99450     NaN\n",
      "3     35  2.040849  5.81450     NaN\n",
      "4     45  2.043774  5.80615     NaN\n",
      "   azithmal slice  dpacing   theta     d_0\n",
      "0               5       NaN    NaN  0.9991\n",
      "1              15       NaN    NaN     NaN\n",
      "2              25       NaN    NaN     NaN\n",
      "3              35       NaN    NaN     NaN\n",
      "4              45       NaN    NaN     NaN\n",
      "   angle  dspacing      theta     d_0\n",
      "0     55   1.418670  10.07075  1.1779\n",
      "1     65   1.421219  10.05250     NaN\n",
      "2     75   1.423461  10.03650     NaN\n",
      "3     85   1.424621  10.02825     NaN\n",
      "4     95   1.424037  10.03240     NaN\n",
      "   angle   dpacing    theta     d_0\n",
      "0     15  1.915882  6.19520  1.8847\n",
      "1     25  1.914912  6.19835     NaN\n",
      "2     35  1.916637  6.19275     NaN\n",
      "3     45  1.918905  6.18540     NaN\n",
      "4     55  1.922853  6.17265     NaN\n"
     ]
    }
   ],
   "source": [
    "for key in data:\n",
    "    print(data[key].head())"
   ]
  },
  {
   "cell_type": "markdown",
   "metadata": {},
   "source": [
    "\n",
    "A lot of NaN values and inconsistent column names\n"
   ]
  },
  {
   "cell_type": "code",
   "execution_count": 8,
   "metadata": {},
   "outputs": [],
   "source": [
    "data['FeNi20_55GPa_202'] = data['FeNi20_55GPa_202'].rename(columns = {'azithmal slice': 'angle'})\n",
    "data['FeNi20_55GPa_103'] = data['FeNi20_55GPa_103'].rename(columns = {'azithmal slice': 'angle'})\n",
    "for key in data:\n",
    "    data[key] = data[key].rename(columns = {data[key].columns[1]: 'dspacing'})"
   ]
  },
  {
   "cell_type": "markdown",
   "metadata": {},
   "source": [
    "\n",
    "Create a new dictionary of just d0 values for later\n"
   ]
  },
  {
   "cell_type": "code",
   "execution_count": 9,
   "metadata": {},
   "outputs": [],
   "source": [
    "all_d0 = {key: data[key]['d_0'][0] for (key, value) in data.items()}"
   ]
  },
  {
   "cell_type": "markdown",
   "metadata": {},
   "source": [
    "\n",
    "Need to fill in missing d_0 values and drop the remaining null values\n"
   ]
  },
  {
   "cell_type": "code",
   "execution_count": 10,
   "metadata": {},
   "outputs": [],
   "source": [
    "for key in data:\n",
    "    data[key]['d_0'] = data[key]['d_0'].fillna(method = 'ffill') \n",
    "    data[key] = data[key].dropna(how = 'any')"
   ]
  },
  {
   "cell_type": "markdown",
   "metadata": {},
   "source": [
    "\n",
    "Check to make sure data types are correct-- sometimes data is a string instead of a number\n"
   ]
  },
  {
   "cell_type": "code",
   "execution_count": 11,
   "metadata": {},
   "outputs": [
    {
     "name": "stdout",
     "output_type": "stream",
     "text": [
      "angle         int64\n",
      "dspacing    float64\n",
      "theta       float64\n",
      "d_0         float64\n",
      "dtype: object\n",
      "angle         int64\n",
      "dspacing    float64\n",
      "theta       float64\n",
      "d_0         float64\n",
      "dtype: object\n",
      "angle         int64\n",
      "dspacing    float64\n",
      "theta       float64\n",
      "d_0         float64\n",
      "dtype: object\n",
      "angle         int64\n",
      "dspacing    float64\n",
      "theta       float64\n",
      "d_0         float64\n",
      "dtype: object\n",
      "angle         int64\n",
      "dspacing    float64\n",
      "theta       float64\n",
      "d_0         float64\n",
      "dtype: object\n",
      "angle         int64\n",
      "dspacing    float64\n",
      "theta       float64\n",
      "d_0         float64\n",
      "dtype: object\n"
     ]
    }
   ],
   "source": [
    "for key in data:\n",
    "    print(data[key].dtypes)"
   ]
  },
  {
   "cell_type": "code",
   "execution_count": 12,
   "metadata": {},
   "outputs": [
    {
     "name": "stdout",
     "output_type": "stream",
     "text": [
      "angle       0\n",
      "dspacing    0\n",
      "theta       0\n",
      "d_0         0\n",
      "dtype: int64\n",
      "angle       0\n",
      "dspacing    0\n",
      "theta       0\n",
      "d_0         0\n",
      "dtype: int64\n",
      "angle       0\n",
      "dspacing    0\n",
      "theta       0\n",
      "d_0         0\n",
      "dtype: int64\n",
      "angle       0\n",
      "dspacing    0\n",
      "theta       0\n",
      "d_0         0\n",
      "dtype: int64\n",
      "angle       0\n",
      "dspacing    0\n",
      "theta       0\n",
      "d_0         0\n",
      "dtype: int64\n",
      "angle       0\n",
      "dspacing    0\n",
      "theta       0\n",
      "d_0         0\n",
      "dtype: int64\n"
     ]
    }
   ],
   "source": [
    "for key in data:\n",
    "    print(data[key].isnull().sum())"
   ]
  },
  {
   "cell_type": "markdown",
   "metadata": {},
   "source": [
    "\n",
    "\n",
    "**Data Analysis:**\n",
    "Need to define and calculate Cos(phi) and Epsilon to obtain average Q (hkl)\n",
    "\n",
    "$d_m(hlk)=d_p(hkl)[1+(1-3 cos^2\\psi)  Q (hkl)]$\n",
    "\n",
    "$e(hkl) = [d_m(hlk)- d_p(hkl)] / d_p(hkl)$\n",
    "\n"
   ]
  },
  {
   "cell_type": "code",
   "execution_count": 13,
   "metadata": {},
   "outputs": [],
   "source": [
    "def cosphi(df, col1, col2):\n",
    "    eta = 70*3.14/180\n",
    "    df['ang_rad'] = np.radians(df[col1])\n",
    "    df['theta_rad'] = np.radians(df[col2])\n",
    "    df['cosphi'] = np.cos(df['ang_rad'])*np.cos(df['theta_rad'])*np.sin(eta) - np.sin(df['theta_rad'])*np.cos(eta)\n",
    "    df['cosphi'] = 1-3*df['cosphi']**2\n",
    "    return df['cosphi']"
   ]
  },
  {
   "cell_type": "markdown",
   "metadata": {},
   "source": [
    "\n",
    "\n",
    "Check if works:\n",
    "\n"
   ]
  },
  {
   "cell_type": "code",
   "execution_count": 14,
   "metadata": {},
   "outputs": [],
   "source": [
    "data['FeNi20_55GPa_002']['cosphi'] = cosphi(data['FeNi20_55GPa_002'], 'angle', 'theta')"
   ]
  },
  {
   "cell_type": "code",
   "execution_count": 15,
   "metadata": {},
   "outputs": [
    {
     "data": {
      "text/html": [
       "<div>\n",
       "<style scoped>\n",
       "    .dataframe tbody tr th:only-of-type {\n",
       "        vertical-align: middle;\n",
       "    }\n",
       "\n",
       "    .dataframe tbody tr th {\n",
       "        vertical-align: top;\n",
       "    }\n",
       "\n",
       "    .dataframe thead th {\n",
       "        text-align: right;\n",
       "    }\n",
       "</style>\n",
       "<table border=\"1\" class=\"dataframe\">\n",
       "  <thead>\n",
       "    <tr style=\"text-align: right;\">\n",
       "      <th></th>\n",
       "      <th>angle</th>\n",
       "      <th>dspacing</th>\n",
       "      <th>theta</th>\n",
       "      <th>d_0</th>\n",
       "      <th>ang_rad</th>\n",
       "      <th>theta_rad</th>\n",
       "      <th>cosphi</th>\n",
       "    </tr>\n",
       "  </thead>\n",
       "  <tbody>\n",
       "    <tr>\n",
       "      <th>0</th>\n",
       "      <td>15</td>\n",
       "      <td>1.915882</td>\n",
       "      <td>6.19520</td>\n",
       "      <td>1.8847</td>\n",
       "      <td>0.261799</td>\n",
       "      <td>0.108127</td>\n",
       "      <td>-1.245696</td>\n",
       "    </tr>\n",
       "    <tr>\n",
       "      <th>1</th>\n",
       "      <td>25</td>\n",
       "      <td>1.914912</td>\n",
       "      <td>6.19835</td>\n",
       "      <td>1.8847</td>\n",
       "      <td>0.436332</td>\n",
       "      <td>0.108182</td>\n",
       "      <td>-0.965822</td>\n",
       "    </tr>\n",
       "    <tr>\n",
       "      <th>2</th>\n",
       "      <td>35</td>\n",
       "      <td>1.916637</td>\n",
       "      <td>6.19275</td>\n",
       "      <td>1.8847</td>\n",
       "      <td>0.610865</td>\n",
       "      <td>0.108084</td>\n",
       "      <td>-0.590515</td>\n",
       "    </tr>\n",
       "    <tr>\n",
       "      <th>3</th>\n",
       "      <td>45</td>\n",
       "      <td>1.918905</td>\n",
       "      <td>6.18540</td>\n",
       "      <td>1.8847</td>\n",
       "      <td>0.785398</td>\n",
       "      <td>0.107956</td>\n",
       "      <td>-0.166376</td>\n",
       "    </tr>\n",
       "    <tr>\n",
       "      <th>4</th>\n",
       "      <td>55</td>\n",
       "      <td>1.922853</td>\n",
       "      <td>6.17265</td>\n",
       "      <td>1.8847</td>\n",
       "      <td>0.959931</td>\n",
       "      <td>0.107733</td>\n",
       "      <td>0.253292</td>\n",
       "    </tr>\n",
       "    <tr>\n",
       "      <th>5</th>\n",
       "      <td>65</td>\n",
       "      <td>1.927972</td>\n",
       "      <td>6.15620</td>\n",
       "      <td>1.8847</td>\n",
       "      <td>1.134464</td>\n",
       "      <td>0.107446</td>\n",
       "      <td>0.615483</td>\n",
       "    </tr>\n",
       "    <tr>\n",
       "      <th>6</th>\n",
       "      <td>75</td>\n",
       "      <td>1.930299</td>\n",
       "      <td>6.14875</td>\n",
       "      <td>1.8847</td>\n",
       "      <td>1.308997</td>\n",
       "      <td>0.107316</td>\n",
       "      <td>0.873851</td>\n",
       "    </tr>\n",
       "    <tr>\n",
       "      <th>7</th>\n",
       "      <td>85</td>\n",
       "      <td>1.931003</td>\n",
       "      <td>6.14650</td>\n",
       "      <td>1.8847</td>\n",
       "      <td>1.483530</td>\n",
       "      <td>0.107277</td>\n",
       "      <td>0.993998</td>\n",
       "    </tr>\n",
       "    <tr>\n",
       "      <th>8</th>\n",
       "      <td>95</td>\n",
       "      <td>1.930877</td>\n",
       "      <td>6.14690</td>\n",
       "      <td>1.8847</td>\n",
       "      <td>1.658063</td>\n",
       "      <td>0.107284</td>\n",
       "      <td>0.958160</td>\n",
       "    </tr>\n",
       "    <tr>\n",
       "      <th>9</th>\n",
       "      <td>105</td>\n",
       "      <td>1.929970</td>\n",
       "      <td>6.14980</td>\n",
       "      <td>1.8847</td>\n",
       "      <td>1.832596</td>\n",
       "      <td>0.107334</td>\n",
       "      <td>0.767383</td>\n",
       "    </tr>\n",
       "    <tr>\n",
       "      <th>10</th>\n",
       "      <td>115</td>\n",
       "      <td>1.927099</td>\n",
       "      <td>6.15900</td>\n",
       "      <td>1.8847</td>\n",
       "      <td>2.007129</td>\n",
       "      <td>0.107495</td>\n",
       "      <td>0.441405</td>\n",
       "    </tr>\n",
       "    <tr>\n",
       "      <th>11</th>\n",
       "      <td>125</td>\n",
       "      <td>1.922311</td>\n",
       "      <td>6.17440</td>\n",
       "      <td>1.8847</td>\n",
       "      <td>2.181662</td>\n",
       "      <td>0.107764</td>\n",
       "      <td>0.016434</td>\n",
       "    </tr>\n",
       "    <tr>\n",
       "      <th>12</th>\n",
       "      <td>135</td>\n",
       "      <td>1.918936</td>\n",
       "      <td>6.18530</td>\n",
       "      <td>1.8847</td>\n",
       "      <td>2.356194</td>\n",
       "      <td>0.107954</td>\n",
       "      <td>-0.458930</td>\n",
       "    </tr>\n",
       "    <tr>\n",
       "      <th>13</th>\n",
       "      <td>145</td>\n",
       "      <td>1.916298</td>\n",
       "      <td>6.19385</td>\n",
       "      <td>1.8847</td>\n",
       "      <td>2.530727</td>\n",
       "      <td>0.108103</td>\n",
       "      <td>-0.929849</td>\n",
       "    </tr>\n",
       "    <tr>\n",
       "      <th>14</th>\n",
       "      <td>155</td>\n",
       "      <td>1.913574</td>\n",
       "      <td>6.20270</td>\n",
       "      <td>1.8847</td>\n",
       "      <td>2.705260</td>\n",
       "      <td>0.108258</td>\n",
       "      <td>-1.341668</td>\n",
       "    </tr>\n",
       "    <tr>\n",
       "      <th>15</th>\n",
       "      <td>165</td>\n",
       "      <td>1.910782</td>\n",
       "      <td>6.21180</td>\n",
       "      <td>1.8847</td>\n",
       "      <td>2.879793</td>\n",
       "      <td>0.108416</td>\n",
       "      <td>-1.646355</td>\n",
       "    </tr>\n",
       "    <tr>\n",
       "      <th>16</th>\n",
       "      <td>175</td>\n",
       "      <td>1.908120</td>\n",
       "      <td>6.22050</td>\n",
       "      <td>1.8847</td>\n",
       "      <td>3.054326</td>\n",
       "      <td>0.108568</td>\n",
       "      <td>-1.808273</td>\n",
       "    </tr>\n",
       "    <tr>\n",
       "      <th>17</th>\n",
       "      <td>185</td>\n",
       "      <td>1.907539</td>\n",
       "      <td>6.22240</td>\n",
       "      <td>1.8847</td>\n",
       "      <td>3.228859</td>\n",
       "      <td>0.108601</td>\n",
       "      <td>-1.808319</td>\n",
       "    </tr>\n",
       "    <tr>\n",
       "      <th>18</th>\n",
       "      <td>195</td>\n",
       "      <td>1.909633</td>\n",
       "      <td>6.21555</td>\n",
       "      <td>1.8847</td>\n",
       "      <td>3.403392</td>\n",
       "      <td>0.108482</td>\n",
       "      <td>-1.646444</td>\n",
       "    </tr>\n",
       "    <tr>\n",
       "      <th>19</th>\n",
       "      <td>205</td>\n",
       "      <td>1.912453</td>\n",
       "      <td>6.20635</td>\n",
       "      <td>1.8847</td>\n",
       "      <td>3.577925</td>\n",
       "      <td>0.108321</td>\n",
       "      <td>-1.341752</td>\n",
       "    </tr>\n",
       "    <tr>\n",
       "      <th>20</th>\n",
       "      <td>215</td>\n",
       "      <td>1.915035</td>\n",
       "      <td>6.19795</td>\n",
       "      <td>1.8847</td>\n",
       "      <td>3.752458</td>\n",
       "      <td>0.108175</td>\n",
       "      <td>-0.929938</td>\n",
       "    </tr>\n",
       "    <tr>\n",
       "      <th>21</th>\n",
       "      <td>225</td>\n",
       "      <td>1.917608</td>\n",
       "      <td>6.18960</td>\n",
       "      <td>1.8847</td>\n",
       "      <td>3.926991</td>\n",
       "      <td>0.108029</td>\n",
       "      <td>-0.459015</td>\n",
       "    </tr>\n",
       "    <tr>\n",
       "      <th>22</th>\n",
       "      <td>235</td>\n",
       "      <td>1.920235</td>\n",
       "      <td>6.18110</td>\n",
       "      <td>1.8847</td>\n",
       "      <td>4.101524</td>\n",
       "      <td>0.107881</td>\n",
       "      <td>0.016320</td>\n",
       "    </tr>\n",
       "    <tr>\n",
       "      <th>23</th>\n",
       "      <td>245</td>\n",
       "      <td>1.924904</td>\n",
       "      <td>6.16605</td>\n",
       "      <td>1.8847</td>\n",
       "      <td>4.276057</td>\n",
       "      <td>0.107618</td>\n",
       "      <td>0.441310</td>\n",
       "    </tr>\n",
       "    <tr>\n",
       "      <th>24</th>\n",
       "      <td>255</td>\n",
       "      <td>1.928284</td>\n",
       "      <td>6.15520</td>\n",
       "      <td>1.8847</td>\n",
       "      <td>4.450590</td>\n",
       "      <td>0.107429</td>\n",
       "      <td>0.767333</td>\n",
       "    </tr>\n",
       "    <tr>\n",
       "      <th>25</th>\n",
       "      <td>265</td>\n",
       "      <td>1.929548</td>\n",
       "      <td>6.15115</td>\n",
       "      <td>1.8847</td>\n",
       "      <td>4.625123</td>\n",
       "      <td>0.107358</td>\n",
       "      <td>0.958143</td>\n",
       "    </tr>\n",
       "    <tr>\n",
       "      <th>26</th>\n",
       "      <td>275</td>\n",
       "      <td>1.930049</td>\n",
       "      <td>6.14955</td>\n",
       "      <td>1.8847</td>\n",
       "      <td>4.799655</td>\n",
       "      <td>0.107330</td>\n",
       "      <td>0.994003</td>\n",
       "    </tr>\n",
       "    <tr>\n",
       "      <th>27</th>\n",
       "      <td>285</td>\n",
       "      <td>1.929689</td>\n",
       "      <td>6.15070</td>\n",
       "      <td>1.8847</td>\n",
       "      <td>4.974188</td>\n",
       "      <td>0.107350</td>\n",
       "      <td>0.873866</td>\n",
       "    </tr>\n",
       "    <tr>\n",
       "      <th>28</th>\n",
       "      <td>295</td>\n",
       "      <td>1.927457</td>\n",
       "      <td>6.15785</td>\n",
       "      <td>1.8847</td>\n",
       "      <td>5.148721</td>\n",
       "      <td>0.107475</td>\n",
       "      <td>0.615507</td>\n",
       "    </tr>\n",
       "    <tr>\n",
       "      <th>29</th>\n",
       "      <td>305</td>\n",
       "      <td>1.923630</td>\n",
       "      <td>6.17015</td>\n",
       "      <td>1.8847</td>\n",
       "      <td>5.323254</td>\n",
       "      <td>0.107689</td>\n",
       "      <td>0.253240</td>\n",
       "    </tr>\n",
       "    <tr>\n",
       "      <th>30</th>\n",
       "      <td>315</td>\n",
       "      <td>1.919755</td>\n",
       "      <td>6.18265</td>\n",
       "      <td>1.8847</td>\n",
       "      <td>5.497787</td>\n",
       "      <td>0.107908</td>\n",
       "      <td>-0.166450</td>\n",
       "    </tr>\n",
       "    <tr>\n",
       "      <th>31</th>\n",
       "      <td>325</td>\n",
       "      <td>1.917778</td>\n",
       "      <td>6.18905</td>\n",
       "      <td>1.8847</td>\n",
       "      <td>5.672320</td>\n",
       "      <td>0.108019</td>\n",
       "      <td>-0.590635</td>\n",
       "    </tr>\n",
       "    <tr>\n",
       "      <th>32</th>\n",
       "      <td>335</td>\n",
       "      <td>1.915728</td>\n",
       "      <td>6.19570</td>\n",
       "      <td>1.8847</td>\n",
       "      <td>5.846853</td>\n",
       "      <td>0.108135</td>\n",
       "      <td>-0.965919</td>\n",
       "    </tr>\n",
       "    <tr>\n",
       "      <th>33</th>\n",
       "      <td>345</td>\n",
       "      <td>1.915989</td>\n",
       "      <td>6.19485</td>\n",
       "      <td>1.8847</td>\n",
       "      <td>6.021386</td>\n",
       "      <td>0.108121</td>\n",
       "      <td>-1.245710</td>\n",
       "    </tr>\n",
       "  </tbody>\n",
       "</table>\n",
       "</div>"
      ],
      "text/plain": [
       "    angle  dspacing    theta     d_0   ang_rad  theta_rad    cosphi\n",
       "0      15  1.915882  6.19520  1.8847  0.261799   0.108127 -1.245696\n",
       "1      25  1.914912  6.19835  1.8847  0.436332   0.108182 -0.965822\n",
       "2      35  1.916637  6.19275  1.8847  0.610865   0.108084 -0.590515\n",
       "3      45  1.918905  6.18540  1.8847  0.785398   0.107956 -0.166376\n",
       "4      55  1.922853  6.17265  1.8847  0.959931   0.107733  0.253292\n",
       "5      65  1.927972  6.15620  1.8847  1.134464   0.107446  0.615483\n",
       "6      75  1.930299  6.14875  1.8847  1.308997   0.107316  0.873851\n",
       "7      85  1.931003  6.14650  1.8847  1.483530   0.107277  0.993998\n",
       "8      95  1.930877  6.14690  1.8847  1.658063   0.107284  0.958160\n",
       "9     105  1.929970  6.14980  1.8847  1.832596   0.107334  0.767383\n",
       "10    115  1.927099  6.15900  1.8847  2.007129   0.107495  0.441405\n",
       "11    125  1.922311  6.17440  1.8847  2.181662   0.107764  0.016434\n",
       "12    135  1.918936  6.18530  1.8847  2.356194   0.107954 -0.458930\n",
       "13    145  1.916298  6.19385  1.8847  2.530727   0.108103 -0.929849\n",
       "14    155  1.913574  6.20270  1.8847  2.705260   0.108258 -1.341668\n",
       "15    165  1.910782  6.21180  1.8847  2.879793   0.108416 -1.646355\n",
       "16    175  1.908120  6.22050  1.8847  3.054326   0.108568 -1.808273\n",
       "17    185  1.907539  6.22240  1.8847  3.228859   0.108601 -1.808319\n",
       "18    195  1.909633  6.21555  1.8847  3.403392   0.108482 -1.646444\n",
       "19    205  1.912453  6.20635  1.8847  3.577925   0.108321 -1.341752\n",
       "20    215  1.915035  6.19795  1.8847  3.752458   0.108175 -0.929938\n",
       "21    225  1.917608  6.18960  1.8847  3.926991   0.108029 -0.459015\n",
       "22    235  1.920235  6.18110  1.8847  4.101524   0.107881  0.016320\n",
       "23    245  1.924904  6.16605  1.8847  4.276057   0.107618  0.441310\n",
       "24    255  1.928284  6.15520  1.8847  4.450590   0.107429  0.767333\n",
       "25    265  1.929548  6.15115  1.8847  4.625123   0.107358  0.958143\n",
       "26    275  1.930049  6.14955  1.8847  4.799655   0.107330  0.994003\n",
       "27    285  1.929689  6.15070  1.8847  4.974188   0.107350  0.873866\n",
       "28    295  1.927457  6.15785  1.8847  5.148721   0.107475  0.615507\n",
       "29    305  1.923630  6.17015  1.8847  5.323254   0.107689  0.253240\n",
       "30    315  1.919755  6.18265  1.8847  5.497787   0.107908 -0.166450\n",
       "31    325  1.917778  6.18905  1.8847  5.672320   0.108019 -0.590635\n",
       "32    335  1.915728  6.19570  1.8847  5.846853   0.108135 -0.965919\n",
       "33    345  1.915989  6.19485  1.8847  6.021386   0.108121 -1.245710"
      ]
     },
     "execution_count": 15,
     "metadata": {},
     "output_type": "execute_result"
    }
   ],
   "source": [
    "data['FeNi20_55GPa_002']"
   ]
  },
  {
   "cell_type": "code",
   "execution_count": 17,
   "metadata": {},
   "outputs": [],
   "source": [
    "def epsilon(dic, col, dic2, key):\n",
    "    dic[key]['epsilon'] = (dic[key][col] - dic2[key]) / dic2[key]\n",
    "    return dic[key]['epsilon']"
   ]
  },
  {
   "cell_type": "markdown",
   "metadata": {},
   "source": [
    "\n",
    "Check if works\n"
   ]
  },
  {
   "cell_type": "code",
   "execution_count": 18,
   "metadata": {},
   "outputs": [
    {
     "name": "stdout",
     "output_type": "stream",
     "text": [
      "    angle  dspacing    theta     d_0   ang_rad  theta_rad    cosphi   epsilon\n",
      "0      15  1.915882  6.19520  1.8847  0.261799   0.108127 -1.245696  0.016545\n",
      "1      25  1.914912  6.19835  1.8847  0.436332   0.108182 -0.965822  0.016030\n",
      "2      35  1.916637  6.19275  1.8847  0.610865   0.108084 -0.590515  0.016945\n",
      "3      45  1.918905  6.18540  1.8847  0.785398   0.107956 -0.166376  0.018149\n",
      "4      55  1.922853  6.17265  1.8847  0.959931   0.107733  0.253292  0.020244\n",
      "5      65  1.927972  6.15620  1.8847  1.134464   0.107446  0.615483  0.022959\n",
      "6      75  1.930299  6.14875  1.8847  1.308997   0.107316  0.873851  0.024194\n",
      "7      85  1.931003  6.14650  1.8847  1.483530   0.107277  0.993998  0.024568\n",
      "8      95  1.930877  6.14690  1.8847  1.658063   0.107284  0.958160  0.024501\n",
      "9     105  1.929970  6.14980  1.8847  1.832596   0.107334  0.767383  0.024020\n",
      "10    115  1.927099  6.15900  1.8847  2.007129   0.107495  0.441405  0.022496\n",
      "11    125  1.922311  6.17440  1.8847  2.181662   0.107764  0.016434  0.019956\n",
      "12    135  1.918936  6.18530  1.8847  2.356194   0.107954 -0.458930  0.018165\n",
      "13    145  1.916298  6.19385  1.8847  2.530727   0.108103 -0.929849  0.016765\n",
      "14    155  1.913574  6.20270  1.8847  2.705260   0.108258 -1.341668  0.015320\n",
      "15    165  1.910782  6.21180  1.8847  2.879793   0.108416 -1.646355  0.013839\n",
      "16    175  1.908120  6.22050  1.8847  3.054326   0.108568 -1.808273  0.012426\n",
      "17    185  1.907539  6.22240  1.8847  3.228859   0.108601 -1.808319  0.012118\n",
      "18    195  1.909633  6.21555  1.8847  3.403392   0.108482 -1.646444  0.013229\n",
      "19    205  1.912453  6.20635  1.8847  3.577925   0.108321 -1.341752  0.014725\n",
      "20    215  1.915035  6.19795  1.8847  3.752458   0.108175 -0.929938  0.016095\n",
      "21    225  1.917608  6.18960  1.8847  3.926991   0.108029 -0.459015  0.017461\n",
      "22    235  1.920235  6.18110  1.8847  4.101524   0.107881  0.016320  0.018854\n",
      "23    245  1.924904  6.16605  1.8847  4.276057   0.107618  0.441310  0.021332\n",
      "24    255  1.928284  6.15520  1.8847  4.450590   0.107429  0.767333  0.023125\n",
      "25    265  1.929548  6.15115  1.8847  4.625123   0.107358  0.958143  0.023796\n",
      "26    275  1.930049  6.14955  1.8847  4.799655   0.107330  0.994003  0.024061\n",
      "27    285  1.929689  6.15070  1.8847  4.974188   0.107350  0.873866  0.023871\n",
      "28    295  1.927457  6.15785  1.8847  5.148721   0.107475  0.615507  0.022686\n",
      "29    305  1.923630  6.17015  1.8847  5.323254   0.107689  0.253240  0.020656\n",
      "30    315  1.919755  6.18265  1.8847  5.497787   0.107908 -0.166450  0.018600\n",
      "31    325  1.917778  6.18905  1.8847  5.672320   0.108019 -0.590635  0.017551\n",
      "32    335  1.915728  6.19570  1.8847  5.846853   0.108135 -0.965919  0.016463\n",
      "33    345  1.915989  6.19485  1.8847  6.021386   0.108121 -1.245710  0.016602\n"
     ]
    }
   ],
   "source": [
    "epsilon(data, 'dspacing', all_d0, 'FeNi20_55GPa_002' )\n",
    "print(data['FeNi20_55GPa_002'])"
   ]
  },
  {
   "cell_type": "code",
   "execution_count": 18,
   "metadata": {},
   "outputs": [],
   "source": [
    "for key in data:\n",
    "    data[key]['cosphi'] = cosphi(data[key], 'angle', 'theta')\n",
    "    data[key]['epsilon'] = epsilon(data, 'dspacing', all_d0, key) "
   ]
  },
  {
   "cell_type": "code",
   "execution_count": 19,
   "metadata": {},
   "outputs": [
    {
     "name": "stdout",
     "output_type": "stream",
     "text": [
      "    angle  dspacing      theta     d_0   ang_rad  theta_rad    cosphi  \\\n",
      "5      55  1.081485  11.021400  1.0699  0.959931   0.192360  0.355704   \n",
      "6      65  1.081315  11.023150  1.0699  1.134464   0.192390  0.684666   \n",
      "7      75  1.081742  11.018750  1.0699  1.308997   0.192313  0.910014   \n",
      "10    105  1.079980  11.036950  1.0699  1.832596   0.192631  0.722302   \n",
      "11    115  1.081746  11.018700  1.0699  2.007129   0.192313  0.378369   \n",
      "12    125  1.081184  11.024500  1.0699  2.181662   0.192414 -0.060058   \n",
      "13    135  1.073639  11.102955  1.0699  2.356194   0.193783 -0.545946   \n",
      "14    145  1.079092  11.046150  1.0699  2.530727   0.192792 -1.021936   \n",
      "15    155  1.077290  11.064850  1.0699  2.705260   0.193118 -1.437472   \n",
      "16    165  1.076551  11.072550  1.0699  2.879793   0.193252 -1.743949   \n",
      "17    175  1.076359  11.074550  1.0699  3.054326   0.193287 -1.906459   \n",
      "18    185  1.076397  11.074150  1.0699  3.228859   0.193280 -1.906452   \n",
      "19    195  1.076488  11.073200  1.0699  3.403392   0.193264 -1.743960   \n",
      "20    205  1.076872  11.069200  1.0699  3.577925   0.193194 -1.437543   \n",
      "21    215  1.078031  11.057150  1.0699  3.752458   0.192984 -1.022115   \n",
      "22    225  1.080154  11.035150  1.0699  3.926991   0.192600 -0.544883   \n",
      "23    235  1.080821  11.028250  1.0699  4.101524   0.192479 -0.060113   \n",
      "24    245  1.083237  11.003350  1.0699  4.276057   0.192045  0.378560   \n",
      "25    255  1.088278  10.951750  1.0699  4.450590   0.191144  0.723089   \n",
      "\n",
      "     epsilon  \n",
      "5   0.010828  \n",
      "6   0.010669  \n",
      "7   0.011068  \n",
      "10  0.009421  \n",
      "11  0.011073  \n",
      "12  0.010547  \n",
      "13  0.003495  \n",
      "14  0.008591  \n",
      "15  0.006908  \n",
      "16  0.006216  \n",
      "17  0.006037  \n",
      "18  0.006073  \n",
      "19  0.006158  \n",
      "20  0.006517  \n",
      "21  0.007600  \n",
      "22  0.009584  \n",
      "23  0.010208  \n",
      "24  0.012466  \n",
      "25  0.017177  \n"
     ]
    }
   ],
   "source": [
    "print(data['FeNi20_55GPa_103'])\n",
    "\n"
   ]
  },
  {
   "cell_type": "code",
   "execution_count": 20,
   "metadata": {},
   "outputs": [
    {
     "data": {
      "text/plain": [
       "<matplotlib.collections.PathCollection at 0x1a19068278>"
      ]
     },
     "execution_count": 20,
     "metadata": {},
     "output_type": "execute_result"
    },
    {
     "data": {
      "image/png": "[encoded data removed]",
      "text/plain": [
       "<Figure size 432x288 with 1 Axes>"
      ]
     },
     "metadata": {
      "needs_background": "light"
     },
     "output_type": "display_data"
    }
   ],
   "source": [
    "plt.scatter( x = data['FeNi20_55GPa_100']['cosphi'], \n",
    "            y =data['FeNi20_55GPa_100']['epsilon'])\n",
    "#plt.ylim(0.01, .03)"
   ]
  },
  {
   "cell_type": "code",
   "execution_count": 24,
   "metadata": {},
   "outputs": [
    {
     "data": {
      "text/plain": [
       "<matplotlib.collections.PathCollection at 0x1a19985a58>"
      ]
     },
     "execution_count": 24,
     "metadata": {},
     "output_type": "execute_result"
    },
    {
     "data": {
      "image/png": "[encoded data removed]",
      "text/plain": [
       "<Figure size 1080x720 with 6 Axes>"
      ]
     },
     "metadata": {
      "needs_background": "light"
     },
     "output_type": "display_data"
    }
   ],
   "source": [
    "dspace = plt.figure(figsize = (15,10))\n",
    "ax1 = plt.subplot(6, 2, 1)\n",
    "ax1.set_xlim(0, .02)\n",
    "ax2 = plt.subplot(6,2,2)\n",
    "ax3 = plt.subplot(6,2,3)\n",
    "ax4 = plt.subplot(6,2,4)\n",
    "ax5 = plt.subplot(6,2,5)\n",
    "ax6 = plt.subplot(6,2,6)\n",
    "ax1.scatter(data['FeNi20_55GPa_103']['epsilon'], data['FeNi20_55GPa_103']['cosphi'])\n",
    "ax2.scatter(data['FeNi20_55GPa_101']['epsilon'], data['FeNi20_55GPa_101']['cosphi']) \n",
    "ax3.scatter(data['FeNi20_55GPa_100']['epsilon'], data['FeNi20_55GPa_100']['cosphi']) \n",
    "ax4.scatter(data['FeNi20_55GPa_202']['epsilon'], data['FeNi20_55GPa_202']['cosphi']) \n",
    "ax5.scatter(data['FeNi20_55GPa_110']['epsilon'], data['FeNi20_55GPa_110']['cosphi']) \n",
    "ax6.scatter(data['FeNi20_55GPa_002']['epsilon'], data['FeNi20_55GPa_002']['cosphi']) "
   ]
  },
  {
   "cell_type": "markdown",
   "metadata": {},
   "source": [
    "\n",
    "There are some outliers in FeNi20_55GPa_103...\n"
   ]
  },
  {
   "cell_type": "code",
   "execution_count": 23,
   "metadata": {},
   "outputs": [],
   "source": [
    "#Alternative model import statsmodels.api as sm\n",
    "#model = sm.OLS(y, X).fit()"
   ]
  },
  {
   "cell_type": "markdown",
   "metadata": {},
   "source": [
    "\n",
    "Time to fit the data\n",
    "\n"
   ]
  },
  {
   "cell_type": "code",
   "execution_count": 25,
   "metadata": {},
   "outputs": [],
   "source": [
    "def fit(dic, key):\n",
    "    y = dic[key]['epsilon'];\n",
    "    x = dic[key]['cosphi']\n",
    "    fitted = stats.linregress(x, y)\n",
    "    return fitted"
   ]
  },
  {
   "cell_type": "code",
   "execution_count": 26,
   "metadata": {},
   "outputs": [
    {
     "name": "stdout",
     "output_type": "stream",
     "text": [
      "['FeNi20_55GPa_103', 'FeNi20_55GPa_101', 'FeNi20_55GPa_100', 'FeNi20_55GPa_202', 'FeNi20_55GPa_110', 'FeNi20_55GPa_002']\n"
     ]
    }
   ],
   "source": [
    "all_keys = [key for key in data]\n",
    "print(all_keys)"
   ]
  },
  {
   "cell_type": "code",
   "execution_count": 27,
   "metadata": {},
   "outputs": [],
   "source": [
    "fit_data = [fit(data, key) for key in all_keys]\n",
    "fit_data = pd.DataFrame(fit_data)\n",
    "fit_data.index = all_keys\n",
    "fit_data.columns = 'slope','intercept','r_value','p_value','std_err'                          "
   ]
  },
  {
   "cell_type": "code",
   "execution_count": 28,
   "metadata": {},
   "outputs": [
    {
     "data": {
      "text/html": [
       "<div>\n",
       "<style scoped>\n",
       "    .dataframe tbody tr th:only-of-type {\n",
       "        vertical-align: middle;\n",
       "    }\n",
       "\n",
       "    .dataframe tbody tr th {\n",
       "        vertical-align: top;\n",
       "    }\n",
       "\n",
       "    .dataframe thead th {\n",
       "        text-align: right;\n",
       "    }\n",
       "</style>\n",
       "<table border=\"1\" class=\"dataframe\">\n",
       "  <thead>\n",
       "    <tr style=\"text-align: right;\">\n",
       "      <th></th>\n",
       "      <th>slope</th>\n",
       "      <th>intercept</th>\n",
       "      <th>r_value</th>\n",
       "      <th>p_value</th>\n",
       "      <th>std_err</th>\n",
       "    </tr>\n",
       "  </thead>\n",
       "  <tbody>\n",
       "    <tr>\n",
       "      <th>FeNi20_55GPa_103</th>\n",
       "      <td>0.002380</td>\n",
       "      <td>0.010143</td>\n",
       "      <td>0.773878</td>\n",
       "      <td>1.011991e-04</td>\n",
       "      <td>0.000472</td>\n",
       "    </tr>\n",
       "    <tr>\n",
       "      <th>FeNi20_55GPa_101</th>\n",
       "      <td>0.004901</td>\n",
       "      <td>0.009382</td>\n",
       "      <td>0.964488</td>\n",
       "      <td>8.559179e-15</td>\n",
       "      <td>0.000280</td>\n",
       "    </tr>\n",
       "    <tr>\n",
       "      <th>FeNi20_55GPa_100</th>\n",
       "      <td>0.005491</td>\n",
       "      <td>0.003522</td>\n",
       "      <td>0.979797</td>\n",
       "      <td>1.405848e-17</td>\n",
       "      <td>0.000234</td>\n",
       "    </tr>\n",
       "    <tr>\n",
       "      <th>FeNi20_55GPa_202</th>\n",
       "      <td>0.002812</td>\n",
       "      <td>0.008311</td>\n",
       "      <td>0.983341</td>\n",
       "      <td>8.837498e-15</td>\n",
       "      <td>0.000123</td>\n",
       "    </tr>\n",
       "    <tr>\n",
       "      <th>FeNi20_55GPa_110</th>\n",
       "      <td>0.005100</td>\n",
       "      <td>0.203317</td>\n",
       "      <td>0.993754</td>\n",
       "      <td>1.343343e-18</td>\n",
       "      <td>0.000135</td>\n",
       "    </tr>\n",
       "    <tr>\n",
       "      <th>FeNi20_55GPa_002</th>\n",
       "      <td>0.004031</td>\n",
       "      <td>0.020073</td>\n",
       "      <td>0.984741</td>\n",
       "      <td>7.110532e-26</td>\n",
       "      <td>0.000126</td>\n",
       "    </tr>\n",
       "  </tbody>\n",
       "</table>\n",
       "</div>"
      ],
      "text/plain": [
       "                     slope  intercept   r_value       p_value   std_err\n",
       "FeNi20_55GPa_103  0.002380   0.010143  0.773878  1.011991e-04  0.000472\n",
       "FeNi20_55GPa_101  0.004901   0.009382  0.964488  8.559179e-15  0.000280\n",
       "FeNi20_55GPa_100  0.005491   0.003522  0.979797  1.405848e-17  0.000234\n",
       "FeNi20_55GPa_202  0.002812   0.008311  0.983341  8.837498e-15  0.000123\n",
       "FeNi20_55GPa_110  0.005100   0.203317  0.993754  1.343343e-18  0.000135\n",
       "FeNi20_55GPa_002  0.004031   0.020073  0.984741  7.110532e-26  0.000126"
      ]
     },
     "execution_count": 28,
     "metadata": {},
     "output_type": "execute_result"
    }
   ],
   "source": [
    "fit_data"
   ]
  },
  {
   "cell_type": "markdown",
   "metadata": {},
   "source": [
    "\n",
    "The r-value for the fit on 'FeNi20_55GPa_103' is low at 0.77. Should remove the outliers.\n",
    "\n"
   ]
  },
  {
   "cell_type": "code",
   "execution_count": 29,
   "metadata": {},
   "outputs": [
    {
     "name": "stdout",
     "output_type": "stream",
     "text": [
      "5     0.010828\n",
      "6     0.010669\n",
      "7     0.011068\n",
      "10    0.009421\n",
      "11    0.011073\n",
      "12    0.010547\n",
      "13    0.003495\n",
      "14    0.008591\n",
      "15    0.006908\n",
      "16    0.006216\n",
      "17    0.006037\n",
      "18    0.006073\n",
      "19    0.006158\n",
      "20    0.006517\n",
      "21    0.007600\n",
      "22    0.009584\n",
      "23    0.010208\n",
      "24    0.012466\n",
      "25    0.017177\n",
      "Name: epsilon, dtype: float64\n",
      "5     0.010828\n",
      "6     0.010669\n",
      "7     0.011068\n",
      "10    0.009421\n",
      "11    0.011073\n",
      "12    0.010547\n",
      "14    0.008591\n",
      "15    0.006908\n",
      "16    0.006216\n",
      "17    0.006037\n",
      "18    0.006073\n",
      "19    0.006158\n",
      "20    0.006517\n",
      "21    0.007600\n",
      "22    0.009584\n",
      "23    0.010208\n",
      "24    0.012466\n",
      "Name: epsilon, dtype: float64\n"
     ]
    }
   ],
   "source": [
    "FeNi20_55GPa_103_epsilon = data['FeNi20_55GPa_103']['epsilon'] \n",
    "outliers_removed =  FeNi20_55GPa_103_epsilon[(FeNi20_55GPa_103_epsilon > .005) & (FeNi20_55GPa_103_epsilon <0.015)]\n",
    "print (FeNi20_55GPa_103_epsilon)\n",
    "print(outliers_removed)"
   ]
  },
  {
   "cell_type": "code",
   "execution_count": 31,
   "metadata": {},
   "outputs": [
    {
     "name": "stdout",
     "output_type": "stream",
     "text": [
      "    angle  dspacing      theta     d_0   ang_rad  theta_rad    cosphi  \\\n",
      "5      55  1.081485  11.021400  1.0699  0.959931   0.192360  0.355704   \n",
      "6      65  1.081315  11.023150  1.0699  1.134464   0.192390  0.684666   \n",
      "7      75  1.081742  11.018750  1.0699  1.308997   0.192313  0.910014   \n",
      "10    105  1.079980  11.036950  1.0699  1.832596   0.192631  0.722302   \n",
      "11    115  1.081746  11.018700  1.0699  2.007129   0.192313  0.378369   \n",
      "12    125  1.081184  11.024500  1.0699  2.181662   0.192414 -0.060058   \n",
      "13    135  1.073639  11.102955  1.0699  2.356194   0.193783 -0.545946   \n",
      "14    145  1.079092  11.046150  1.0699  2.530727   0.192792 -1.021936   \n",
      "15    155  1.077290  11.064850  1.0699  2.705260   0.193118 -1.437472   \n",
      "16    165  1.076551  11.072550  1.0699  2.879793   0.193252 -1.743949   \n",
      "17    175  1.076359  11.074550  1.0699  3.054326   0.193287 -1.906459   \n",
      "18    185  1.076397  11.074150  1.0699  3.228859   0.193280 -1.906452   \n",
      "19    195  1.076488  11.073200  1.0699  3.403392   0.193264 -1.743960   \n",
      "20    205  1.076872  11.069200  1.0699  3.577925   0.193194 -1.437543   \n",
      "21    215  1.078031  11.057150  1.0699  3.752458   0.192984 -1.022115   \n",
      "22    225  1.080154  11.035150  1.0699  3.926991   0.192600 -0.544883   \n",
      "23    235  1.080821  11.028250  1.0699  4.101524   0.192479 -0.060113   \n",
      "24    245  1.083237  11.003350  1.0699  4.276057   0.192045  0.378560   \n",
      "25    255  1.088278  10.951750  1.0699  4.450590   0.191144  0.723089   \n",
      "\n",
      "     epsilon  \n",
      "5   0.010828  \n",
      "6   0.010669  \n",
      "7   0.011068  \n",
      "10  0.009421  \n",
      "11  0.011073  \n",
      "12  0.010547  \n",
      "13       NaN  \n",
      "14  0.008591  \n",
      "15  0.006908  \n",
      "16  0.006216  \n",
      "17  0.006037  \n",
      "18  0.006073  \n",
      "19  0.006158  \n",
      "20  0.006517  \n",
      "21  0.007600  \n",
      "22  0.009584  \n",
      "23  0.010208  \n",
      "24  0.012466  \n",
      "25       NaN  \n"
     ]
    }
   ],
   "source": [
    "data['FeNi20_55GPa_103']['epsilon'] = outliers_removed\n",
    "print(data['FeNi20_55GPa_103'])"
   ]
  },
  {
   "cell_type": "markdown",
   "metadata": {},
   "source": [
    "\n",
    "Drop NaN values after outlier removal, refit the data and add it back to fit dataframe\n"
   ]
  },
  {
   "cell_type": "code",
   "execution_count": 32,
   "metadata": {},
   "outputs": [],
   "source": [
    "data['FeNi20_55GPa_103'] = data['FeNi20_55GPa_103'].dropna()"
   ]
  },
  {
   "cell_type": "code",
   "execution_count": 34,
   "metadata": {},
   "outputs": [],
   "source": [
    "FeNi20_55GPa_103 = fit(data, 'FeNi20_55GPa_103')\n",
    "fit_data.loc['FeNi20_55GPa_103', :] =  FeNi20_55GPa_103"
   ]
  },
  {
   "cell_type": "code",
   "execution_count": 35,
   "metadata": {},
   "outputs": [
    {
     "data": {
      "text/html": [
       "<div>\n",
       "<style scoped>\n",
       "    .dataframe tbody tr th:only-of-type {\n",
       "        vertical-align: middle;\n",
       "    }\n",
       "\n",
       "    .dataframe tbody tr th {\n",
       "        vertical-align: top;\n",
       "    }\n",
       "\n",
       "    .dataframe thead th {\n",
       "        text-align: right;\n",
       "    }\n",
       "</style>\n",
       "<table border=\"1\" class=\"dataframe\">\n",
       "  <thead>\n",
       "    <tr style=\"text-align: right;\">\n",
       "      <th></th>\n",
       "      <th>slope</th>\n",
       "      <th>intercept</th>\n",
       "      <th>r_value</th>\n",
       "      <th>p_value</th>\n",
       "      <th>std_err</th>\n",
       "    </tr>\n",
       "  </thead>\n",
       "  <tbody>\n",
       "    <tr>\n",
       "      <th>FeNi20_55GPa_103</th>\n",
       "      <td>0.001980</td>\n",
       "      <td>0.009923</td>\n",
       "      <td>0.930125</td>\n",
       "      <td>6.434389e-08</td>\n",
       "      <td>0.000202</td>\n",
       "    </tr>\n",
       "    <tr>\n",
       "      <th>FeNi20_55GPa_101</th>\n",
       "      <td>0.004901</td>\n",
       "      <td>0.009382</td>\n",
       "      <td>0.964488</td>\n",
       "      <td>8.559179e-15</td>\n",
       "      <td>0.000280</td>\n",
       "    </tr>\n",
       "    <tr>\n",
       "      <th>FeNi20_55GPa_100</th>\n",
       "      <td>0.005491</td>\n",
       "      <td>0.003522</td>\n",
       "      <td>0.979797</td>\n",
       "      <td>1.405848e-17</td>\n",
       "      <td>0.000234</td>\n",
       "    </tr>\n",
       "    <tr>\n",
       "      <th>FeNi20_55GPa_202</th>\n",
       "      <td>0.002812</td>\n",
       "      <td>0.008311</td>\n",
       "      <td>0.983341</td>\n",
       "      <td>8.837498e-15</td>\n",
       "      <td>0.000123</td>\n",
       "    </tr>\n",
       "    <tr>\n",
       "      <th>FeNi20_55GPa_110</th>\n",
       "      <td>0.005100</td>\n",
       "      <td>0.203317</td>\n",
       "      <td>0.993754</td>\n",
       "      <td>1.343343e-18</td>\n",
       "      <td>0.000135</td>\n",
       "    </tr>\n",
       "    <tr>\n",
       "      <th>FeNi20_55GPa_002</th>\n",
       "      <td>0.004031</td>\n",
       "      <td>0.020073</td>\n",
       "      <td>0.984741</td>\n",
       "      <td>7.110532e-26</td>\n",
       "      <td>0.000126</td>\n",
       "    </tr>\n",
       "  </tbody>\n",
       "</table>\n",
       "</div>"
      ],
      "text/plain": [
       "                     slope  intercept   r_value       p_value   std_err\n",
       "FeNi20_55GPa_103  0.001980   0.009923  0.930125  6.434389e-08  0.000202\n",
       "FeNi20_55GPa_101  0.004901   0.009382  0.964488  8.559179e-15  0.000280\n",
       "FeNi20_55GPa_100  0.005491   0.003522  0.979797  1.405848e-17  0.000234\n",
       "FeNi20_55GPa_202  0.002812   0.008311  0.983341  8.837498e-15  0.000123\n",
       "FeNi20_55GPa_110  0.005100   0.203317  0.993754  1.343343e-18  0.000135\n",
       "FeNi20_55GPa_002  0.004031   0.020073  0.984741  7.110532e-26  0.000126"
      ]
     },
     "execution_count": 35,
     "metadata": {},
     "output_type": "execute_result"
    }
   ],
   "source": [
    "fit_data\n"
   ]
  },
  {
   "cell_type": "markdown",
   "metadata": {},
   "source": [
    "Check how the data and fit look"
   ]
  },
  {
   "cell_type": "code",
   "execution_count": 36,
   "metadata": {},
   "outputs": [
    {
     "data": {
      "text/plain": [
       "Text(0.5, 1.0, 'FeNi20 55GPa 110')"
      ]
     },
     "execution_count": 36,
     "metadata": {},
     "output_type": "execute_result"
    },
    {
     "data": {
      "image/png": "[encoded data removed]",
      "text/plain": [
       "<Figure size 576x432 with 1 Axes>"
      ]
     },
     "metadata": {
      "needs_background": "light"
     },
     "output_type": "display_data"
    }
   ],
   "source": [
    "y = data['FeNi20_55GPa_110']['epsilon']\n",
    "x = data['FeNi20_55GPa_110']['cosphi']\n",
    "fig, ax = plt.subplots(figsize=(8,6))\n",
    "\n",
    "ax.scatter(x, y)\n",
    "ax.plot(x, x*0.0051+.203317,'r')\n",
    "ax.set_xlabel('Cos(phi)')\n",
    "ax.set_ylabel('Epsilon')\n",
    "ax.set_title('FeNi20 55GPa 110')"
   ]
  },
  {
   "cell_type": "markdown",
   "metadata": {},
   "source": [
    "\n",
    "Time to plot all data and fits\n"
   ]
  },
  {
   "cell_type": "code",
   "execution_count": 37,
   "metadata": {},
   "outputs": [],
   "source": [
    "x1 = data['FeNi20_55GPa_103']['cosphi'] \n",
    "x2 = data['FeNi20_55GPa_101']['cosphi']\n",
    "x3 = data['FeNi20_55GPa_100']['cosphi']\n",
    "x4 = data['FeNi20_55GPa_202']['cosphi']\n",
    "x5 = data['FeNi20_55GPa_110']['cosphi']\n",
    "x6 = data['FeNi20_55GPa_002']['cosphi']\n",
    "\n",
    "fit1 = fit_data.iloc[0][0]*x1 + fit_data.iloc[0][1]\n",
    "fit2 = fit_data.iloc[1][0]*x2 + fit_data.iloc[1][1]\n",
    "fit3 = fit_data.iloc[2][0]*x3 + fit_data.iloc[2][1]\n",
    "fit4 = fit_data.iloc[3][0]*x4 + fit_data.iloc[3][1]\n",
    "fit5 = fit_data.iloc[4][0]*x5 + fit_data.iloc[4][1]\n",
    "fit6 = fit_data.iloc[5][0]*x6 + fit_data.iloc[5][1]"
   ]
  },
  {
   "cell_type": "code",
   "execution_count": 38,
   "metadata": {},
   "outputs": [
    {
     "data": {
      "text/plain": [
       "[<matplotlib.lines.Line2D at 0x1a19efbeb8>]"
      ]
     },
     "execution_count": 38,
     "metadata": {},
     "output_type": "execute_result"
    },
    {
     "data": {
      "image/png": "[encoded data removed]",
      "text/plain": [
       "<Figure size 1080x1440 with 6 Axes>"
      ]
     },
     "metadata": {
      "needs_background": "light"
     },
     "output_type": "display_data"
    }
   ],
   "source": [
    "dspace = plt.figure(figsize = (15,20))\n",
    "ax1 = plt.subplot(6, 2, 1)\n",
    "ax2 = plt.subplot(6,2,2)\n",
    "ax3 = plt.subplot(6,2,3)\n",
    "ax4 = plt.subplot(6,2,4)\n",
    "ax5 = plt.subplot(6,2,5)\n",
    "ax6 = plt.subplot(6,2,6)\n",
    "\n",
    "ax1.scatter(data['FeNi20_55GPa_103']['cosphi'], data['FeNi20_55GPa_103']['epsilon'])\n",
    "ax1.plot(x1, fit1, 'r')\n",
    "\n",
    "ax2.scatter(data['FeNi20_55GPa_101']['cosphi'], data['FeNi20_55GPa_101']['epsilon']) \n",
    "ax2.plot(x2, fit2, 'r')\n",
    "\n",
    "ax3.scatter(data['FeNi20_55GPa_100']['cosphi'], data['FeNi20_55GPa_100']['epsilon']) \n",
    "ax3.plot(x3, fit3, 'r')\n",
    "\n",
    "ax4.scatter(data['FeNi20_55GPa_202']['cosphi'], data['FeNi20_55GPa_202']['epsilon']) \n",
    "ax4.plot(x4, fit4, 'r')\n",
    "\n",
    "ax5.scatter(data['FeNi20_55GPa_110']['cosphi'], data['FeNi20_55GPa_110']['epsilon'])\n",
    "ax5.plot(x5, fit5, 'r')\n",
    "\n",
    "ax6.scatter(data['FeNi20_55GPa_002']['cosphi'], data['FeNi20_55GPa_002']['epsilon'])\n",
    "ax6.plot(x6, fit6, 'r')"
   ]
  },
  {
   "cell_type": "markdown",
   "metadata": {},
   "source": [
    "Everything looks good. Can calculate Q(hkl) and strength for this data point"
   ]
  },
  {
   "cell_type": "code",
   "execution_count": 39,
   "metadata": {},
   "outputs": [],
   "source": [
    "Average_Q_55GPa = fit_data.loc[:, 'slope'].mean()"
   ]
  },
  {
   "cell_type": "code",
   "execution_count": 40,
   "metadata": {},
   "outputs": [
    {
     "data": {
      "text/plain": [
       "0.004052405783566826"
      ]
     },
     "execution_count": 40,
     "metadata": {},
     "output_type": "execute_result"
    }
   ],
   "source": [
    "Average_Q_55GPa"
   ]
  },
  {
   "cell_type": "code",
   "execution_count": 41,
   "metadata": {},
   "outputs": [
    {
     "name": "stdout",
     "output_type": "stream",
     "text": [
      "4.084825029835361\n"
     ]
    }
   ],
   "source": [
    "Strength = 6*168*Average_Q_55GPa\n",
    "print(Strength)"
   ]
  },
  {
   "cell_type": "markdown",
   "metadata": {},
   "source": [
    "Repeat process as more data comes in!\n",
    "\n",
    "...Shortcut to all the processed data...\n"
   ]
  },
  {
   "cell_type": "code",
   "execution_count": 42,
   "metadata": {},
   "outputs": [],
   "source": [
    "FeNi10_data = {'pressure': [21, 24, 29, 47, 43, 52, 57, 60], \n",
    "               'strength': [1.98203075, 2.085004152, 2.17724199, 2.3, 2.17724199, 2.3, 2.4133, 2.454]}\n",
    "\n",
    "FeNi10 = pd.DataFrame(FeNi10_data)\n",
    "\n",
    "FeNi20_data = { 'pressure': [35 ,39, 43, 51,  53, 55, 60, 64, 69, 70], \n",
    "                'strength': [1.5795, 2.578, 2.424, 2.8, 3, 4.08, 4.0449474, 3.5, 4.2, 4] }\n",
    "FeNi20 = pd.DataFrame(FeNi20_data)\n",
    "\n",
    "Fe_data = { 'pressure' :[0, 21, 47, 75] , 'strength': [1.82,  2.157, 2.599, 3.075,] }\n",
    "Fe = pd.DataFrame(Fe_data)"
   ]
  },
  {
   "cell_type": "code",
   "execution_count": 43,
   "metadata": {},
   "outputs": [
    {
     "data": {
      "text/plain": [
       "<matplotlib.legend.Legend at 0x1a18fd89e8>"
      ]
     },
     "execution_count": 43,
     "metadata": {},
     "output_type": "execute_result"
    },
    {
     "data": {
      "image/png": "[encoded data removed]",
      "text/plain": [
       "<Figure size 576x432 with 1 Axes>"
      ]
     },
     "metadata": {
      "needs_background": "light"
     },
     "output_type": "display_data"
    }
   ],
   "source": [
    "fig, ax = plt.subplots(figsize=(8,6))\n",
    "\n",
    "ax.scatter(FeNi10['pressure'], FeNi10['strength'], label = 'FeNi10')\n",
    "ax.scatter(FeNi20['pressure'], FeNi20['strength'], label = 'FeNi20')\n",
    "ax.plot(Fe['pressure'], Fe['strength'], 'black', label = 'Pure Fe')\n",
    "\n",
    "ax.set_xlabel('Pressure')\n",
    "ax.set_ylabel('Strength (GPa)')\n",
    "ax.set_title('FeNi Alloys')\n",
    "ax.legend()"
   ]
  },
  {
   "cell_type": "markdown",
   "metadata": {},
   "source": [
    "What does this mean for the Earth?\n"
   ]
  }
 ],
 "metadata": {
  "kernelspec": {
   "display_name": "Python 3",
   "language": "python",
   "name": "python3"
  },
  "language_info": {
   "codemirror_mode": {
    "name": "ipython",
    "version": 3
   },
   "file_extension": ".py",
   "mimetype": "text/x-python",
   "name": "python",
   "nbconvert_exporter": "python",
   "pygments_lexer": "ipython3",
   "version": "3.7.4"
  }
 },
 "nbformat": 4,
 "nbformat_minor": 2
}
